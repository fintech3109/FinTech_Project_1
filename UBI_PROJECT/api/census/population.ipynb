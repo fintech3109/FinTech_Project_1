{
 "cells": [
  {
   "cell_type": "code",
   "execution_count": 1,
   "id": "14aebfbe-bec7-4d55-87d7-5419df8c2d85",
   "metadata": {},
   "outputs": [],
   "source": [
    "import os\n",
    "import requests\n",
    "import json\n",
    "import pandas as pd\n",
    "from dotenv import load_dotenv\n",
    "import csv\n",
    "from pathlib import Path\n",
    "\n",
    "%matplotlib inline"
   ]
  },
  {
   "cell_type": "code",
   "execution_count": 4,
   "id": "d349983a-2779-4ae8-b30c-19d8e53664fa",
   "metadata": {},
   "outputs": [],
   "source": [
    "International_Database = pd.read_csv(\n",
    "    Path(\"./International_Database.csv\"),\n",
    "    index_col=\"Row\",\n",
    "    parse_dates=True,\n",
    "    infer_datetime_format=True\n",
    ")\n"
   ]
  },
  {
   "cell_type": "code",
   "execution_count": 5,
   "id": "36a82908-8b44-4519-a10a-8ccf399d00a3",
   "metadata": {},
   "outputs": [],
   "source": [
    "int_data_sliced= International_Database.loc[:,\"Population\"]"
   ]
  },
  {
   "cell_type": "code",
   "execution_count": 6,
   "id": "994d910d-0196-4dfb-8d54-e7327b4ce6f1",
   "metadata": {},
   "outputs": [
    {
     "data": {
      "text/plain": [
       "Row\n",
       "1    37466414\n",
       "2     3088385\n",
       "3    43576691\n",
       "4       46366\n",
       "5       85645\n",
       "Name: Population, dtype: int64"
      ]
     },
     "execution_count": 6,
     "metadata": {},
     "output_type": "execute_result"
    }
   ],
   "source": [
    "int_data_sliced.head()"
   ]
  },
  {
   "cell_type": "code",
   "execution_count": 7,
   "id": "a806b0fb-7ee4-4e9b-ade3-d511ecb1a510",
   "metadata": {},
   "outputs": [
    {
     "name": "stdout",
     "output_type": "stream",
     "text": [
      "7772850805\n"
     ]
    }
   ],
   "source": [
    "world_population = int_data_sliced.sum()\n",
    "print(world_population)"
   ]
  },
  {
   "cell_type": "code",
   "execution_count": null,
   "id": "022a1204-bac2-4ca2-938d-0c3c88eee437",
   "metadata": {},
   "outputs": [],
   "source": []
  }
 ],
 "metadata": {
  "kernelspec": {
   "display_name": "Python 3",
   "language": "python",
   "name": "python3"
  },
  "language_info": {
   "codemirror_mode": {
    "name": "ipython",
    "version": 3
   },
   "file_extension": ".py",
   "mimetype": "text/x-python",
   "name": "python",
   "nbconvert_exporter": "python",
   "pygments_lexer": "ipython3",
   "version": "3.7.10"
  }
 },
 "nbformat": 4,
 "nbformat_minor": 5
}
