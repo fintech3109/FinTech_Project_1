{
 "cells": [
  {
   "cell_type": "code",
   "execution_count": 16,
   "id": "a406c6b0-7670-4509-8e17-785fdf5cd106",
   "metadata": {},
   "outputs": [],
   "source": [
    "%store -r  "
   ]
  },
  {
   "cell_type": "markdown",
   "id": "4236633e-716f-44fa-a161-1c7f524b24c3",
   "metadata": {},
   "source": [
    "# Seigneuriage Calculator"
   ]
  },
  {
   "cell_type": "markdown",
   "id": "a46daa0e-0247-4ed6-80c2-dada07d8cb06",
   "metadata": {},
   "source": [
    "#### To get the current melt value for a coin in the U.S. catalogue list, simply enter the name of the coin (Example: dollar, quarter, dime, nickel, penny) and run the command. \n",
    " > **Note**: This calculator is case sensitive. To get the real time melt value for one or more U.S. coins, use all lower case letters. To get the sum or melt value for two or more different coin's, simply type the coin name as provided below the \"Current List\" and include a plus \"+\" symbol between the two coin names (example: dollar + quarter).\n",
    " \n",
    "> ***Current List***\n",
    "dollar,\n",
    "quarter,\n",
    "dime,\n",
    "nickel,\n",
    "penny"
   ]
  },
  {
   "cell_type": "markdown",
   "id": "106f5ff0-6c78-4b30-824d-f6b97fd7c4b6",
   "metadata": {},
   "source": [
    "##### Enter *SC* or *USD / dollar* for the Seigneuriage multiple. "
   ]
  },
  {
   "cell_type": "markdown",
   "id": "a2a97961-3e41-46a0-984b-12f2e7f0251f",
   "metadata": {},
   "source": [
    " > **example**: 1 SC = $13.789 as of 12/17/21"
   ]
  },
  {
   "cell_type": "markdown",
   "id": "253a3298-5a21-4943-ac2e-bdb6b257991d",
   "metadata": {},
   "source": [
    "###SC###"
   ]
  },
  {
   "cell_type": "code",
   "execution_count": 17,
   "id": "06b65905-a7fa-4c53-ab81-1b5a3758fe42",
   "metadata": {},
   "outputs": [
    {
     "data": {
      "text/plain": [
       "13.709983198692251"
      ]
     },
     "execution_count": 17,
     "metadata": {},
     "output_type": "execute_result"
    }
   ],
   "source": [
    "SC"
   ]
  },
  {
   "cell_type": "markdown",
   "id": "9e37ded6-f2f3-4429-9c08-04e6a1006060",
   "metadata": {},
   "source": [
    "###dollar###\n"
   ]
  },
  {
   "cell_type": "code",
   "execution_count": 18,
   "id": "8d565926-e209-43bb-89af-5fce77c9eb34",
   "metadata": {},
   "outputs": [
    {
     "data": {
      "text/plain": [
       "0.07293954963383077"
      ]
     },
     "execution_count": 18,
     "metadata": {},
     "output_type": "execute_result"
    }
   ],
   "source": [
    "dollar"
   ]
  },
  {
   "cell_type": "markdown",
   "id": "287b2d70-7288-43ce-9b5f-16f6d5d03aed",
   "metadata": {},
   "source": [
    "###quarter###"
   ]
  },
  {
   "cell_type": "code",
   "execution_count": 19,
   "id": "8ccff042-9b5e-4343-a0fe-8306d87256d2",
   "metadata": {},
   "outputs": [
    {
     "data": {
      "text/plain": [
       "0.05860809692237651"
      ]
     },
     "execution_count": 19,
     "metadata": {},
     "output_type": "execute_result"
    }
   ],
   "source": [
    "quarter"
   ]
  },
  {
   "cell_type": "markdown",
   "id": "8553c41d-291d-4840-af26-150a5fe4f957",
   "metadata": {},
   "source": [
    "###dime###"
   ]
  },
  {
   "cell_type": "code",
   "execution_count": 20,
   "id": "77de0445-97df-4dbc-8f06-aed3e874b4bd",
   "metadata": {},
   "outputs": [
    {
     "data": {
      "text/plain": [
       "0.0234432387689506"
      ]
     },
     "execution_count": 20,
     "metadata": {},
     "output_type": "execute_result"
    }
   ],
   "source": [
    "dime"
   ]
  },
  {
   "cell_type": "markdown",
   "id": "49591a4a-6ea1-49bd-a82c-d0081b6895a4",
   "metadata": {},
   "source": [
    "###nickel###"
   ]
  },
  {
   "cell_type": "code",
   "execution_count": 21,
   "id": "f92b6db5-ef37-4cb3-ba52-4b9b0ba1e7e1",
   "metadata": {},
   "outputs": [
    {
     "data": {
      "text/plain": [
       "0.060038703213315815"
      ]
     },
     "execution_count": 21,
     "metadata": {},
     "output_type": "execute_result"
    }
   ],
   "source": [
    "nickel"
   ]
  },
  {
   "cell_type": "markdown",
   "id": "a0265df0-31d1-40b1-8b4c-d806b2d5ae9e",
   "metadata": {},
   "source": [
    "###penny###"
   ]
  },
  {
   "cell_type": "code",
   "execution_count": 22,
   "id": "36830f18-93cb-496d-b14b-f4af732d5e87",
   "metadata": {},
   "outputs": [
    {
     "data": {
      "text/plain": [
       "0.008877517396174314"
      ]
     },
     "execution_count": 22,
     "metadata": {},
     "output_type": "execute_result"
    }
   ],
   "source": [
    "penny"
   ]
  },
  {
   "cell_type": "markdown",
   "id": "83e5ed3b",
   "metadata": {},
   "source": [
    "###### dollar + quarter + dime + nickel + penny ####"
   ]
  },
  {
   "cell_type": "code",
   "execution_count": 23,
   "id": "5062cb03-af57-47ba-bab7-be90729b5442",
   "metadata": {},
   "outputs": [
    {
     "data": {
      "text/plain": [
       "0.223907105934648"
      ]
     },
     "execution_count": 23,
     "metadata": {},
     "output_type": "execute_result"
    }
   ],
   "source": [
    "dollar + quarter + dime + nickel + penny"
   ]
  }
 ],
 "metadata": {
  "kernelspec": {
   "display_name": "Python 3",
   "language": "python",
   "name": "python3"
  },
  "language_info": {
   "codemirror_mode": {
    "name": "ipython",
    "version": 3
   },
   "file_extension": ".py",
   "mimetype": "text/x-python",
   "name": "python",
   "nbconvert_exporter": "python",
   "pygments_lexer": "ipython3",
   "version": "3.7.10"
  }
 },
 "nbformat": 4,
 "nbformat_minor": 5
}
